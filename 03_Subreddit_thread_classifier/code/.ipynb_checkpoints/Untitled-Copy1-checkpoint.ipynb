{
 "cells": [
  {
   "cell_type": "markdown",
   "metadata": {},
   "source": [
    "# Reddit API and Classification"
   ]
  },
  {
   "cell_type": "markdown",
   "metadata": {},
   "source": [
    "**Previous:** [Data Collection and Wrangling](./01_data_collection_and_wrangling.ipynb)"
   ]
  },
  {
   "cell_type": "markdown",
   "metadata": {},
   "source": [
    "## Preprocessing and Modeling"
   ]
  },
  {
   "cell_type": "markdown",
   "metadata": {},
   "source": [
    "**Next:** [Preprocessing and Modeling](./03_preprocessing_and_modeling.ipynb)"
   ]
  },
  {
   "cell_type": "code",
   "execution_count": 1,
   "metadata": {},
   "outputs": [],
   "source": [
    "import numpy as np\n",
    "import matplotlib.pyplot as plt\n",
    "import pandas as pd\n",
    "%matplotlib inline\n",
    "from sklearn.feature_extraction.text import CountVectorizer, TfidfVectorizer\n",
    "from sklearn.pipeline import Pipeline\n",
    "from sklearn.model_selection import train_test_split, GridSearchCV\n",
    "from sklearn.linear_model import LogisticRegression\n",
    "from sklearn.naive_bayes import MultinomialNB\n",
    "from sklearn.metrics import confusion_matrix, classification_report\n",
    "\n",
    "from bs4 import BeautifulSoup\n",
    "import regex as re\n",
    "import requests\n",
    "import time\n",
    "import random"
   ]
  },
  {
   "cell_type": "code",
   "execution_count": 4,
   "metadata": {},
   "outputs": [],
   "source": [
    "#defining url to access\n",
    "url_android = 'https://www.reddit.com/r/Android.json'\n",
    "url_apple = 'https://www.reddit.com/r/apple.json'"
   ]
  },
  {
   "cell_type": "code",
   "execution_count": 5,
   "metadata": {},
   "outputs": [],
   "source": [
    "#\n",
    "def obtain_posts(url, file_path):\n",
    "    \n",
    "    posts = []\n",
    "    after = None\n",
    "\n",
    "    for n in range(5):\n",
    "        if after == None:\n",
    "            current_url = url\n",
    "        else:\n",
    "            current_url = url + '?after=' + after\n",
    "        #print url to track request\n",
    "        print(current_url)\n",
    "        res = requests.get(current_url, headers={'User-agent': 'Pony Inc 1.0'})\n",
    "\n",
    "        if res.status_code != 200:\n",
    "            print('Status error', res.status_code)\n",
    "            break\n",
    "\n",
    "        current_dict = res.json()\n",
    "        current_posts = [p['data'] for p in current_dict['data']['children']]\n",
    "        posts.extend(current_posts)\n",
    "        after = current_dict['data']['after']\n",
    "\n",
    "        if n > 0:\n",
    "            prev_posts = pd.read_csv(file_path)\n",
    "            current_df = pd.DataFrame(prev_posts)\n",
    "\n",
    "        else:\n",
    "            pd.DataFrame(posts).to_csv(file_path, index = False)\n",
    "\n",
    "        # generate a random sleep duration to look more 'natural'\n",
    "        sleep_duration = random.randint(2,6)\n",
    "        print(sleep_duration)\n",
    "        time.sleep(sleep_duration)"
   ]
  },
  {
   "cell_type": "code",
   "execution_count": 7,
   "metadata": {},
   "outputs": [
    {
     "name": "stdout",
     "output_type": "stream",
     "text": [
      "https://www.reddit.com/r/Android.json\n",
      "2\n",
      "https://www.reddit.com/r/Android.json?after=t3_iz1dj7\n",
      "6\n",
      "https://www.reddit.com/r/Android.json?after=t3_iy5q3e\n",
      "3\n",
      "https://www.reddit.com/r/Android.json?after=t3_ixg1a9\n",
      "3\n",
      "https://www.reddit.com/r/Android.json?after=t3_iwe1y1\n",
      "2\n"
     ]
    }
   ],
   "source": [
    "obtain_posts(url_android, '../datasets/test1.csv')"
   ]
  },
  {
   "cell_type": "code",
   "execution_count": 8,
   "metadata": {},
   "outputs": [],
   "source": [
    "df = pd.read_csv('../datasets/test1.csv')"
   ]
  },
  {
   "cell_type": "code",
   "execution_count": 10,
   "metadata": {},
   "outputs": [
    {
     "data": {
      "text/plain": [
       "(26, 108)"
      ]
     },
     "execution_count": 10,
     "metadata": {},
     "output_type": "execute_result"
    }
   ],
   "source": [
    "df.shape"
   ]
  },
  {
   "cell_type": "code",
   "execution_count": 11,
   "metadata": {},
   "outputs": [],
   "source": [
    "def obtain_posts1(url, file_path):\n",
    "    posts = []\n",
    "    after = None\n",
    "\n",
    "    for a in range(4):\n",
    "        if after == None:\n",
    "            current_url = url\n",
    "        else:\n",
    "            current_url = url + '?after=' + after\n",
    "        print(current_url)\n",
    "        res = requests.get(current_url, headers={'User-agent': 'Pony Inc 1.0'})\n",
    "\n",
    "        if res.status_code != 200:\n",
    "            print('Status error', res.status_code)\n",
    "            break\n",
    "\n",
    "        current_dict = res.json()\n",
    "        current_posts = [p['data'] for p in current_dict['data']['children']]\n",
    "        posts.extend(current_posts)\n",
    "        after = current_dict['data']['after']\n",
    "\n",
    "        if a > 0:\n",
    "            prev_posts = pd.read_csv(file_path)\n",
    "            current_df = pd.DataFrame()\n",
    "\n",
    "        else:\n",
    "            pd.DataFrame(posts).to_csv(file_path, index = False)\n",
    "\n",
    "        # generate a random sleep duration to look more 'natural'\n",
    "        sleep_duration = random.randint(2,6)\n",
    "        print(sleep_duration)\n",
    "        time.sleep(sleep_duration)"
   ]
  },
  {
   "cell_type": "code",
   "execution_count": 12,
   "metadata": {},
   "outputs": [
    {
     "name": "stdout",
     "output_type": "stream",
     "text": [
      "https://www.reddit.com/r/Android.json\n",
      "3\n",
      "https://www.reddit.com/r/Android.json?after=t3_izq9xs\n",
      "4\n",
      "https://www.reddit.com/r/Android.json?after=t3_iy5q3e\n",
      "4\n",
      "https://www.reddit.com/r/Android.json?after=t3_ixg1a9\n",
      "2\n"
     ]
    }
   ],
   "source": [
    "obtain_posts1(url_android, '../datasets/test2.csv')"
   ]
  },
  {
   "cell_type": "code",
   "execution_count": 18,
   "metadata": {},
   "outputs": [
    {
     "name": "stdout",
     "output_type": "stream",
     "text": [
      "https://www.reddit.com/r/apple.json\n",
      "5\n",
      "https://www.reddit.com/r/apple.json?after=t3_j05uh7\n",
      "6\n",
      "https://www.reddit.com/r/apple.json?after=t3_izh06i\n",
      "4\n",
      "https://www.reddit.com/r/apple.json?after=t3_j04tcj\n",
      "3\n",
      "https://www.reddit.com/r/apple.json?after=t3_iyvj6c\n",
      "6\n",
      "https://www.reddit.com/r/apple.json?after=t3_iyc4bn\n",
      "5\n",
      "https://www.reddit.com/r/apple.json?after=t3_ixv210\n",
      "4\n",
      "https://www.reddit.com/r/apple.json?after=t3_iy04j7\n",
      "2\n",
      "https://www.reddit.com/r/apple.json?after=t3_iw2156\n",
      "2\n",
      "https://www.reddit.com/r/apple.json?after=t3_ivt5mi\n",
      "3\n"
     ]
    }
   ],
   "source": [
    "posts = []\n",
    "after = None\n",
    "\n",
    "for a in range(10):\n",
    "    if after == None:\n",
    "        current_url = url_apple\n",
    "    else:\n",
    "        current_url = url_apple + '?after=' + after\n",
    "    print(current_url)\n",
    "    res = requests.get(current_url, headers={'User-agent': 'Pony Inc 1.0'})\n",
    "    \n",
    "    if res.status_code != 200:\n",
    "        print('Status error', res.status_code)\n",
    "        break\n",
    "    \n",
    "    current_dict = res.json()\n",
    "    current_posts = [p['data'] for p in current_dict['data']['children']]\n",
    "    posts.extend(current_posts)\n",
    "    after = current_dict['data']['after']\n",
    "    \n",
    "    if a > 0:\n",
    "        prev_posts = pd.read_csv('test3.csv')\n",
    "        current_df = pd.DataFrame()\n",
    "        \n",
    "    else:\n",
    "        pd.DataFrame(posts).to_csv('test3.csv', index = False)\n",
    "\n",
    "    # generate a random sleep duration to look more 'natural'\n",
    "    sleep_duration = random.randint(2,6)\n",
    "    print(sleep_duration)\n",
    "    time.sleep(sleep_duration)"
   ]
  },
  {
   "cell_type": "code",
   "execution_count": 19,
   "metadata": {},
   "outputs": [],
   "source": [
    "test3 = pd.read_csv('test3.csv')"
   ]
  },
  {
   "cell_type": "code",
   "execution_count": 20,
   "metadata": {},
   "outputs": [
    {
     "data": {
      "text/plain": [
       "(27, 108)"
      ]
     },
     "execution_count": 20,
     "metadata": {},
     "output_type": "execute_result"
    }
   ],
   "source": [
    "test3.shape"
   ]
  },
  {
   "cell_type": "code",
   "execution_count": 21,
   "metadata": {},
   "outputs": [
    {
     "data": {
      "text/html": [
       "<div>\n",
       "<style scoped>\n",
       "    .dataframe tbody tr th:only-of-type {\n",
       "        vertical-align: middle;\n",
       "    }\n",
       "\n",
       "    .dataframe tbody tr th {\n",
       "        vertical-align: top;\n",
       "    }\n",
       "\n",
       "    .dataframe thead th {\n",
       "        text-align: right;\n",
       "    }\n",
       "</style>\n",
       "<table border=\"1\" class=\"dataframe\">\n",
       "  <thead>\n",
       "    <tr style=\"text-align: right;\">\n",
       "      <th></th>\n",
       "      <th>approved_at_utc</th>\n",
       "      <th>subreddit</th>\n",
       "      <th>selftext</th>\n",
       "      <th>author_fullname</th>\n",
       "      <th>saved</th>\n",
       "      <th>mod_reason_title</th>\n",
       "      <th>gilded</th>\n",
       "      <th>clicked</th>\n",
       "      <th>title</th>\n",
       "      <th>link_flair_richtext</th>\n",
       "      <th>...</th>\n",
       "      <th>parent_whitelist_status</th>\n",
       "      <th>stickied</th>\n",
       "      <th>url</th>\n",
       "      <th>subreddit_subscribers</th>\n",
       "      <th>created_utc</th>\n",
       "      <th>num_crossposts</th>\n",
       "      <th>media</th>\n",
       "      <th>is_video</th>\n",
       "      <th>url_overridden_by_dest</th>\n",
       "      <th>link_flair_template_id</th>\n",
       "    </tr>\n",
       "  </thead>\n",
       "  <tbody>\n",
       "    <tr>\n",
       "      <th>0</th>\n",
       "      <td>NaN</td>\n",
       "      <td>apple</td>\n",
       "      <td>\\n\\nWelcome to the daily Tech Support thread f...</td>\n",
       "      <td>t2_6l4z3</td>\n",
       "      <td>False</td>\n",
       "      <td>NaN</td>\n",
       "      <td>0</td>\n",
       "      <td>False</td>\n",
       "      <td>Daily Tech Support Thread - [September 26]</td>\n",
       "      <td>[{'e': 'text', 't': 'Official Megathread'}]</td>\n",
       "      <td>...</td>\n",
       "      <td>all_ads</td>\n",
       "      <td>True</td>\n",
       "      <td>https://www.reddit.com/r/apple/comments/j07nhs...</td>\n",
       "      <td>1797890</td>\n",
       "      <td>1.601133e+09</td>\n",
       "      <td>0</td>\n",
       "      <td>NaN</td>\n",
       "      <td>False</td>\n",
       "      <td>NaN</td>\n",
       "      <td>NaN</td>\n",
       "    </tr>\n",
       "    <tr>\n",
       "      <th>1</th>\n",
       "      <td>NaN</td>\n",
       "      <td>apple</td>\n",
       "      <td>## Hello, /r/Apple, and welcome to Wallpaper W...</td>\n",
       "      <td>t2_6l4z3</td>\n",
       "      <td>False</td>\n",
       "      <td>NaN</td>\n",
       "      <td>0</td>\n",
       "      <td>False</td>\n",
       "      <td>Wallpaper Wednesday - [September 23]</td>\n",
       "      <td>[{'e': 'text', 't': 'Official Megathread'}]</td>\n",
       "      <td>...</td>\n",
       "      <td>all_ads</td>\n",
       "      <td>True</td>\n",
       "      <td>https://www.reddit.com/r/apple/comments/iy9tar...</td>\n",
       "      <td>1797890</td>\n",
       "      <td>1.600867e+09</td>\n",
       "      <td>0</td>\n",
       "      <td>NaN</td>\n",
       "      <td>False</td>\n",
       "      <td>NaN</td>\n",
       "      <td>NaN</td>\n",
       "    </tr>\n",
       "    <tr>\n",
       "      <th>2</th>\n",
       "      <td>NaN</td>\n",
       "      <td>apple</td>\n",
       "      <td>NaN</td>\n",
       "      <td>t2_jp69e</td>\n",
       "      <td>False</td>\n",
       "      <td>NaN</td>\n",
       "      <td>0</td>\n",
       "      <td>False</td>\n",
       "      <td>Hey, I made a 3D minesweeper game that's free ...</td>\n",
       "      <td>[{'e': 'text', 't': 'Promo Saturday'}]</td>\n",
       "      <td>...</td>\n",
       "      <td>all_ads</td>\n",
       "      <td>False</td>\n",
       "      <td>https://apps.apple.com/us/app/id1529127991</td>\n",
       "      <td>1797890</td>\n",
       "      <td>1.601120e+09</td>\n",
       "      <td>0</td>\n",
       "      <td>NaN</td>\n",
       "      <td>False</td>\n",
       "      <td>https://apps.apple.com/us/app/id1529127991</td>\n",
       "      <td>854c34e2-5702-11e9-bf73-0e73ef6cdf98</td>\n",
       "    </tr>\n",
       "    <tr>\n",
       "      <th>3</th>\n",
       "      <td>NaN</td>\n",
       "      <td>apple</td>\n",
       "      <td>NaN</td>\n",
       "      <td>t2_khozz</td>\n",
       "      <td>False</td>\n",
       "      <td>NaN</td>\n",
       "      <td>0</td>\n",
       "      <td>False</td>\n",
       "      <td>In memo to employees, Tim Cook once again give...</td>\n",
       "      <td>[{'e': 'text', 't': 'Discussion'}]</td>\n",
       "      <td>...</td>\n",
       "      <td>all_ads</td>\n",
       "      <td>False</td>\n",
       "      <td>https://twitter.com/markgurman/status/13096129...</td>\n",
       "      <td>1797890</td>\n",
       "      <td>1.601071e+09</td>\n",
       "      <td>0</td>\n",
       "      <td>{'oembed': {'provider_url': 'https://twitter.c...</td>\n",
       "      <td>False</td>\n",
       "      <td>https://twitter.com/markgurman/status/13096129...</td>\n",
       "      <td>86b258de-5702-11e9-98ce-0eebcac587ec</td>\n",
       "    </tr>\n",
       "    <tr>\n",
       "      <th>4</th>\n",
       "      <td>NaN</td>\n",
       "      <td>apple</td>\n",
       "      <td>NaN</td>\n",
       "      <td>t2_30vizfh0</td>\n",
       "      <td>False</td>\n",
       "      <td>NaN</td>\n",
       "      <td>0</td>\n",
       "      <td>False</td>\n",
       "      <td>Your Apple Watch measures your heart rate ever...</td>\n",
       "      <td>[{'e': 'text', 't': 'Promo Saturday'}]</td>\n",
       "      <td>...</td>\n",
       "      <td>all_ads</td>\n",
       "      <td>False</td>\n",
       "      <td>https://apps.apple.com/us/app/cardiobot-heart-...</td>\n",
       "      <td>1797890</td>\n",
       "      <td>1.601124e+09</td>\n",
       "      <td>0</td>\n",
       "      <td>NaN</td>\n",
       "      <td>False</td>\n",
       "      <td>https://apps.apple.com/us/app/cardiobot-heart-...</td>\n",
       "      <td>854c34e2-5702-11e9-bf73-0e73ef6cdf98</td>\n",
       "    </tr>\n",
       "  </tbody>\n",
       "</table>\n",
       "<p>5 rows × 108 columns</p>\n",
       "</div>"
      ],
      "text/plain": [
       "   approved_at_utc subreddit  \\\n",
       "0              NaN     apple   \n",
       "1              NaN     apple   \n",
       "2              NaN     apple   \n",
       "3              NaN     apple   \n",
       "4              NaN     apple   \n",
       "\n",
       "                                            selftext author_fullname  saved  \\\n",
       "0  \\n\\nWelcome to the daily Tech Support thread f...        t2_6l4z3  False   \n",
       "1  ## Hello, /r/Apple, and welcome to Wallpaper W...        t2_6l4z3  False   \n",
       "2                                                NaN        t2_jp69e  False   \n",
       "3                                                NaN        t2_khozz  False   \n",
       "4                                                NaN     t2_30vizfh0  False   \n",
       "\n",
       "   mod_reason_title  gilded  clicked  \\\n",
       "0               NaN       0    False   \n",
       "1               NaN       0    False   \n",
       "2               NaN       0    False   \n",
       "3               NaN       0    False   \n",
       "4               NaN       0    False   \n",
       "\n",
       "                                               title  \\\n",
       "0         Daily Tech Support Thread - [September 26]   \n",
       "1               Wallpaper Wednesday - [September 23]   \n",
       "2  Hey, I made a 3D minesweeper game that's free ...   \n",
       "3  In memo to employees, Tim Cook once again give...   \n",
       "4  Your Apple Watch measures your heart rate ever...   \n",
       "\n",
       "                           link_flair_richtext  ... parent_whitelist_status  \\\n",
       "0  [{'e': 'text', 't': 'Official Megathread'}]  ...                 all_ads   \n",
       "1  [{'e': 'text', 't': 'Official Megathread'}]  ...                 all_ads   \n",
       "2       [{'e': 'text', 't': 'Promo Saturday'}]  ...                 all_ads   \n",
       "3           [{'e': 'text', 't': 'Discussion'}]  ...                 all_ads   \n",
       "4       [{'e': 'text', 't': 'Promo Saturday'}]  ...                 all_ads   \n",
       "\n",
       "   stickied                                                url  \\\n",
       "0      True  https://www.reddit.com/r/apple/comments/j07nhs...   \n",
       "1      True  https://www.reddit.com/r/apple/comments/iy9tar...   \n",
       "2     False         https://apps.apple.com/us/app/id1529127991   \n",
       "3     False  https://twitter.com/markgurman/status/13096129...   \n",
       "4     False  https://apps.apple.com/us/app/cardiobot-heart-...   \n",
       "\n",
       "  subreddit_subscribers   created_utc  num_crossposts  \\\n",
       "0               1797890  1.601133e+09               0   \n",
       "1               1797890  1.600867e+09               0   \n",
       "2               1797890  1.601120e+09               0   \n",
       "3               1797890  1.601071e+09               0   \n",
       "4               1797890  1.601124e+09               0   \n",
       "\n",
       "                                               media  is_video  \\\n",
       "0                                                NaN     False   \n",
       "1                                                NaN     False   \n",
       "2                                                NaN     False   \n",
       "3  {'oembed': {'provider_url': 'https://twitter.c...     False   \n",
       "4                                                NaN     False   \n",
       "\n",
       "                              url_overridden_by_dest  \\\n",
       "0                                                NaN   \n",
       "1                                                NaN   \n",
       "2         https://apps.apple.com/us/app/id1529127991   \n",
       "3  https://twitter.com/markgurman/status/13096129...   \n",
       "4  https://apps.apple.com/us/app/cardiobot-heart-...   \n",
       "\n",
       "                 link_flair_template_id  \n",
       "0                                   NaN  \n",
       "1                                   NaN  \n",
       "2  854c34e2-5702-11e9-bf73-0e73ef6cdf98  \n",
       "3  86b258de-5702-11e9-98ce-0eebcac587ec  \n",
       "4  854c34e2-5702-11e9-bf73-0e73ef6cdf98  \n",
       "\n",
       "[5 rows x 108 columns]"
      ]
     },
     "execution_count": 21,
     "metadata": {},
     "output_type": "execute_result"
    }
   ],
   "source": [
    "\n",
    "test3.head()"
   ]
  },
  {
   "cell_type": "code",
   "execution_count": 22,
   "metadata": {},
   "outputs": [
    {
     "name": "stdout",
     "output_type": "stream",
     "text": [
      "https://www.reddit.com/r/apple.json\n",
      "32\n",
      "https://www.reddit.com/r/apple.json?after=t3_j02mpv\n",
      "17\n",
      "https://www.reddit.com/r/apple.json?after=t3_j04j1w\n",
      "43\n",
      "https://www.reddit.com/r/apple.json?after=t3_izn5lt\n",
      "11\n"
     ]
    }
   ],
   "source": [
    "posts = []\n",
    "after = None\n",
    "\n",
    "for a in range(4):\n",
    "    if after == None:\n",
    "        current_url = url_apple\n",
    "    else:\n",
    "        current_url = url_apple + '?after=' + after\n",
    "    print(current_url)\n",
    "    res = requests.get(current_url, headers={'User-agent': 'Pony Inc 1.0'})\n",
    "    \n",
    "    if res.status_code != 200:\n",
    "        print('Status error', res.status_code)\n",
    "        break\n",
    "    \n",
    "    current_dict = res.json()\n",
    "    current_posts = [p['data'] for p in current_dict['data']['children']]\n",
    "    posts.extend(current_posts)\n",
    "    after = current_dict['data']['after']\n",
    "    \n",
    "    # generate a random sleep duration to look more 'natural'\n",
    "    sleep_duration = random.randint(2,60)\n",
    "    print(sleep_duration)\n",
    "    time.sleep(sleep_duration)"
   ]
  },
  {
   "cell_type": "code",
   "execution_count": 23,
   "metadata": {},
   "outputs": [
    {
     "data": {
      "text/plain": [
       "102"
      ]
     },
     "execution_count": 23,
     "metadata": {},
     "output_type": "execute_result"
    }
   ],
   "source": [
    "len(posts)"
   ]
  },
  {
   "cell_type": "code",
   "execution_count": 24,
   "metadata": {},
   "outputs": [],
   "source": [
    "df = pd.DataFrame(posts)"
   ]
  },
  {
   "cell_type": "code",
   "execution_count": 25,
   "metadata": {},
   "outputs": [
    {
     "data": {
      "text/plain": [
       "(102, 108)"
      ]
     },
     "execution_count": 25,
     "metadata": {},
     "output_type": "execute_result"
    }
   ],
   "source": [
    "df.shape"
   ]
  },
  {
   "cell_type": "code",
   "execution_count": null,
   "metadata": {},
   "outputs": [],
   "source": [
    "pd.DataFrame(posts).to_csv('test4.csv', index = False)"
   ]
  }
 ],
 "metadata": {
  "kernelspec": {
   "display_name": "Python 3",
   "language": "python",
   "name": "python3"
  },
  "language_info": {
   "codemirror_mode": {
    "name": "ipython",
    "version": 3
   },
   "file_extension": ".py",
   "mimetype": "text/x-python",
   "name": "python",
   "nbconvert_exporter": "python",
   "pygments_lexer": "ipython3",
   "version": "3.7.6"
  }
 },
 "nbformat": 4,
 "nbformat_minor": 4
}
