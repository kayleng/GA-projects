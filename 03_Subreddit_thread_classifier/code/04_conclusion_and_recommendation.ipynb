{
 "cells": [
  {
   "attachments": {},
   "cell_type": "markdown",
   "metadata": {},
   "source": [
    "<a id='top'></a>\n",
    "# Reddit API and Classification"
   ]
  },
  {
   "cell_type": "markdown",
   "metadata": {},
   "source": [
    "**Previous:** [Preprocessing and Modeling](./03_preprocessing_and_modeling.ipynb)"
   ]
  },
  {
   "cell_type": "markdown",
   "metadata": {},
   "source": [
    "## Conclusion and recommendation\n",
    "---"
   ]
  },
  {
   "cell_type": "markdown",
   "metadata": {},
   "source": [
    "### Imports"
   ]
  },
  {
   "cell_type": "code",
   "execution_count": 2,
   "metadata": {},
   "outputs": [],
   "source": [
    "import pandas as pd"
   ]
  },
  {
   "cell_type": "markdown",
   "metadata": {},
   "source": [
    "### Data imports"
   ]
  },
  {
   "cell_type": "code",
   "execution_count": null,
   "metadata": {},
   "outputs": [],
   "source": [
    "scores_df = pd.read_csv('../datasets/scores.csv')\n",
    "prod_score_df = pd.read_csv('../datasets/prod_score.csv')"
   ]
  },
  {
   "cell_type": "markdown",
   "metadata": {},
   "source": [
    "### Baseline model metrics"
   ]
  },
  {
   "cell_type": "code",
   "execution_count": 10,
   "metadata": {
    "scrolled": true
   },
   "outputs": [
    {
     "data": {
      "text/html": [
       "<div>\n",
       "<style scoped>\n",
       "    .dataframe tbody tr th:only-of-type {\n",
       "        vertical-align: middle;\n",
       "    }\n",
       "\n",
       "    .dataframe tbody tr th {\n",
       "        vertical-align: top;\n",
       "    }\n",
       "\n",
       "    .dataframe thead th {\n",
       "        text-align: right;\n",
       "    }\n",
       "</style>\n",
       "<table border=\"1\" class=\"dataframe\">\n",
       "  <thead>\n",
       "    <tr style=\"text-align: right;\">\n",
       "      <th></th>\n",
       "      <th>model</th>\n",
       "      <th>vectorizer</th>\n",
       "      <th>valid_train</th>\n",
       "      <th>valid_test</th>\n",
       "      <th>mean_cv</th>\n",
       "      <th>tn</th>\n",
       "      <th>fp</th>\n",
       "      <th>fn</th>\n",
       "      <th>tp</th>\n",
       "      <th>bal_accuracy</th>\n",
       "      <th>misclassification</th>\n",
       "      <th>specificity</th>\n",
       "      <th>sensitivity</th>\n",
       "      <th>precision</th>\n",
       "      <th>roc_auc</th>\n",
       "      <th>params</th>\n",
       "    </tr>\n",
       "  </thead>\n",
       "  <tbody>\n",
       "    <tr>\n",
       "      <th>0</th>\n",
       "      <td>nb</td>\n",
       "      <td>cvec</td>\n",
       "      <td>0.9862</td>\n",
       "      <td>0.9331</td>\n",
       "      <td>0.9373</td>\n",
       "      <td>130</td>\n",
       "      <td>14</td>\n",
       "      <td>7</td>\n",
       "      <td>163</td>\n",
       "      <td>0.9308</td>\n",
       "      <td>0.0669</td>\n",
       "      <td>0.9028</td>\n",
       "      <td>0.9588</td>\n",
       "      <td>0.9209</td>\n",
       "      <td>0.9764</td>\n",
       "      <td>default</td>\n",
       "    </tr>\n",
       "  </tbody>\n",
       "</table>\n",
       "</div>"
      ],
      "text/plain": [
       "  model vectorizer  valid_train  valid_test  mean_cv   tn  fp  fn   tp  \\\n",
       "0    nb       cvec       0.9862      0.9331   0.9373  130  14   7  163   \n",
       "\n",
       "   bal_accuracy  misclassification  specificity  sensitivity  precision  \\\n",
       "0        0.9308             0.0669       0.9028       0.9588     0.9209   \n",
       "\n",
       "   roc_auc   params  \n",
       "0   0.9764  default  "
      ]
     },
     "execution_count": 10,
     "metadata": {},
     "output_type": "execute_result"
    }
   ],
   "source": [
    "#baseline model\n",
    "scores_df.iloc[[0]]"
   ]
  },
  {
   "cell_type": "markdown",
   "metadata": {},
   "source": [
    "### Production model metrics"
   ]
  },
  {
   "cell_type": "code",
   "execution_count": 11,
   "metadata": {},
   "outputs": [
    {
     "data": {
      "text/html": [
       "<div>\n",
       "<style scoped>\n",
       "    .dataframe tbody tr th:only-of-type {\n",
       "        vertical-align: middle;\n",
       "    }\n",
       "\n",
       "    .dataframe tbody tr th {\n",
       "        vertical-align: top;\n",
       "    }\n",
       "\n",
       "    .dataframe thead th {\n",
       "        text-align: right;\n",
       "    }\n",
       "</style>\n",
       "<table border=\"1\" class=\"dataframe\">\n",
       "  <thead>\n",
       "    <tr style=\"text-align: right;\">\n",
       "      <th></th>\n",
       "      <th>model</th>\n",
       "      <th>vectorizer</th>\n",
       "      <th>valid_train</th>\n",
       "      <th>valid_test</th>\n",
       "      <th>mean_cv</th>\n",
       "      <th>tn</th>\n",
       "      <th>fp</th>\n",
       "      <th>fn</th>\n",
       "      <th>tp</th>\n",
       "      <th>bal_accuracy</th>\n",
       "      <th>misclassification</th>\n",
       "      <th>specificity</th>\n",
       "      <th>sensitivity</th>\n",
       "      <th>precision</th>\n",
       "      <th>roc_auc</th>\n",
       "      <th>params</th>\n",
       "    </tr>\n",
       "  </thead>\n",
       "  <tbody>\n",
       "    <tr>\n",
       "      <th>7</th>\n",
       "      <td>nb</td>\n",
       "      <td>cvec</td>\n",
       "      <td>0.9851</td>\n",
       "      <td>0.9363</td>\n",
       "      <td>0.9426</td>\n",
       "      <td>130</td>\n",
       "      <td>14</td>\n",
       "      <td>6</td>\n",
       "      <td>164</td>\n",
       "      <td>0.9337</td>\n",
       "      <td>0.0637</td>\n",
       "      <td>0.9028</td>\n",
       "      <td>0.9647</td>\n",
       "      <td>0.9213</td>\n",
       "      <td>0.9771</td>\n",
       "      <td>{'nb__alpha': 1.303512244681509}</td>\n",
       "    </tr>\n",
       "  </tbody>\n",
       "</table>\n",
       "</div>"
      ],
      "text/plain": [
       "  model vectorizer  valid_train  valid_test  mean_cv   tn  fp  fn   tp  \\\n",
       "7    nb       cvec       0.9851      0.9363   0.9426  130  14   6  164   \n",
       "\n",
       "   bal_accuracy  misclassification  specificity  sensitivity  precision  \\\n",
       "7        0.9337             0.0637       0.9028       0.9647     0.9213   \n",
       "\n",
       "   roc_auc                            params  \n",
       "7   0.9771  {'nb__alpha': 1.303512244681509}  "
      ]
     },
     "execution_count": 11,
     "metadata": {},
     "output_type": "execute_result"
    }
   ],
   "source": [
    "#production model scored with validation data\n",
    "scores_df.iloc[[7]]"
   ]
  },
  {
   "cell_type": "code",
   "execution_count": 12,
   "metadata": {
    "scrolled": false
   },
   "outputs": [
    {
     "data": {
      "text/html": [
       "<div>\n",
       "<style scoped>\n",
       "    .dataframe tbody tr th:only-of-type {\n",
       "        vertical-align: middle;\n",
       "    }\n",
       "\n",
       "    .dataframe tbody tr th {\n",
       "        vertical-align: top;\n",
       "    }\n",
       "\n",
       "    .dataframe thead th {\n",
       "        text-align: right;\n",
       "    }\n",
       "</style>\n",
       "<table border=\"1\" class=\"dataframe\">\n",
       "  <thead>\n",
       "    <tr style=\"text-align: right;\">\n",
       "      <th></th>\n",
       "      <th>model</th>\n",
       "      <th>vectorizer</th>\n",
       "      <th>tn</th>\n",
       "      <th>fp</th>\n",
       "      <th>fn</th>\n",
       "      <th>tp</th>\n",
       "      <th>mean_cv</th>\n",
       "      <th>accuracy</th>\n",
       "      <th>bal_accuracy</th>\n",
       "      <th>misclassification</th>\n",
       "      <th>specificity</th>\n",
       "      <th>sensitivity</th>\n",
       "      <th>precision</th>\n",
       "      <th>roc_auc</th>\n",
       "      <th>params</th>\n",
       "    </tr>\n",
       "  </thead>\n",
       "  <tbody>\n",
       "    <tr>\n",
       "      <th>0</th>\n",
       "      <td>nb</td>\n",
       "      <td>cvec</td>\n",
       "      <td>132</td>\n",
       "      <td>14</td>\n",
       "      <td>10</td>\n",
       "      <td>158</td>\n",
       "      <td>0.942621</td>\n",
       "      <td>0.923567</td>\n",
       "      <td>0.9223</td>\n",
       "      <td>0.0764</td>\n",
       "      <td>0.9041</td>\n",
       "      <td>0.9405</td>\n",
       "      <td>0.9186</td>\n",
       "      <td>0.98</td>\n",
       "      <td>1.303512</td>\n",
       "    </tr>\n",
       "  </tbody>\n",
       "</table>\n",
       "</div>"
      ],
      "text/plain": [
       "  model vectorizer   tn  fp  fn   tp   mean_cv  accuracy  bal_accuracy  \\\n",
       "0    nb       cvec  132  14  10  158  0.942621  0.923567        0.9223   \n",
       "\n",
       "   misclassification  specificity  sensitivity  precision  roc_auc    params  \n",
       "0             0.0764       0.9041       0.9405     0.9186     0.98  1.303512  "
      ]
     },
     "execution_count": 12,
     "metadata": {},
     "output_type": "execute_result"
    }
   ],
   "source": [
    "#production model scored with unseen data\n",
    "prod_score_df"
   ]
  },
  {
   "cell_type": "markdown",
   "metadata": {},
   "source": [
    "### Our production model: \n",
    "- Multinomial Naive Bayes with CountVectorizer, alpha: 1.3035\n",
    "\n",
    "    After fitting our unseen data into our model, we conclude the following:\n",
    "        - Our model correctly predicts 92% of observations based on accuracy score.\n",
    "        - Among posts that our model predicted to be in r/apple, we have 92% of them correctly classified.\n",
    "        - Among posts that are in r/apple, our model has 94% of them correctly classified.\n",
    "        - Among posts that are in r/Android, our model has 90% of them correctly classified.\n"
   ]
  },
  {
   "cell_type": "markdown",
   "metadata": {},
   "source": [
    "### Conclusion"
   ]
  },
  {
   "cell_type": "markdown",
   "metadata": {},
   "source": [
    "With an overall success rate of more than 90% in correctly classifying if a post belongs the apple subreddit, moderators can now utilise the model as a feature to detect if the post is correctly classified/ relevant to the Apple community.\n",
    "\n",
    "The model can be an embedded tool into the subreddit post submission page, whereby a pop-up dialog is raised when the model detects any unusual words written in the post that is indicative of irrelevance to the apple subreddit. The dialog temporarily halts program execution and prompts the user to confirm if the user is posting in the correct subreddit, which acts as a barrier for any irrelevant \"spams\" to the page, and reduces the number of posts with unrelated content.\n",
    "\n",
    "It can also act as an automation tool when the model is employed to \"flag out\" posts that contain highly unusual words, and halts publishing of post before moderator approval.\n",
    "\n"
   ]
  },
  {
   "cell_type": "markdown",
   "metadata": {},
   "source": [
    "With the model in place, the moderator would have an easier job of \"cleaning\" irrelevant posts as they would most likely have been identified by the model, instead of having to spend time and resources to scan through all the posts in the subreddit which are increasing by the minute. This also reduces the chance of misclassification as moderators are humans who might mistakenly miss out screening a post once in a while.\n",
    "\n",
    "With the restriction in place, the apple community redditors can truely enjoy new content, without having to go through irrelevant content that might have been the cause of advertising or even harassments from \"competitor communities\" redditors."
   ]
  },
  {
   "cell_type": "markdown",
   "metadata": {},
   "source": [
    "### Recommendations to improve the model"
   ]
  },
  {
   "cell_type": "markdown",
   "metadata": {},
   "source": [
    "**1. Explore other features**\n",
    "\n",
    ">In addition to the analyses done in the previous notebooks, we can explore other text features such as post text data and comments text data which might provide us with more features for modelling. \n",
    "\n",
    "**2. Sentiment/Intent analysis**\n",
    "\n",
    ">In analysing the underlying sentiment of the text data, as well as analyzing the user’s intention behind the text data, the model could be able to identify if it relates an opinion, news, marketing, complaint, suggestion, appreciation or query.\n",
    ">\n",
    ">This could result in a better model built that could even extend the restriction to other posts which are against the rules of the community.\n",
    "\n",
    "**3. Other Classifier Models**\n",
    "\n",
    "> In our analyses, we only employed the use of Naive Bayes and Logistic Regression models to create our production model. We can include other learning algorithmns such as the k Nearest Neighbors, Decision Tree Classifier and the Random Forest Classifier to determine the best model that can be optimised to be our production model.\n",
    "\n",
    "\n",
    "**4. Retrain model periodically**\n",
    "\n",
    "> Due to the nature of the fast-changing trends in technology, we recommend that the data be pulled to retrain the model in every new season or observed change in technology trends. New trends/ products trigger new keywords, and pulling new data retrains the model to recognise these new keywords. The model should be trained to recognised new terms and therefore, better able to classify new subreddit posts in the future."
   ]
  },
  {
   "cell_type": "markdown",
   "metadata": {},
   "source": [
    "<div style=\"text-align: right\">\n",
    "    <div class=\"right\"> >>> <b>Back to: </b>\n",
    "        <a href=\"../README.md\">README</a>\n",
    "    </div>\n",
    "    </div>"
   ]
  },
  {
   "cell_type": "markdown",
   "metadata": {},
   "source": [
    "[Go to top](#top)\n",
    "\n",
    "---"
   ]
  }
 ],
 "metadata": {
  "kernelspec": {
   "display_name": "Python 3",
   "language": "python",
   "name": "python3"
  },
  "language_info": {
   "codemirror_mode": {
    "name": "ipython",
    "version": 3
   },
   "file_extension": ".py",
   "mimetype": "text/x-python",
   "name": "python",
   "nbconvert_exporter": "python",
   "pygments_lexer": "ipython3",
   "version": "3.7.7"
  }
 },
 "nbformat": 4,
 "nbformat_minor": 4
}
