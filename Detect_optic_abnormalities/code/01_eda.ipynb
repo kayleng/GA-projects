{
 "cells": [
  {
   "cell_type": "markdown",
   "metadata": {},
   "source": [
    "<a id='top'></a>\n",
    "# Detecting optic abnormalities through <br>Fundus photography\n",
    "> *First level screening tool to reduce man-hours spent on grading retinal images* <br>\n",
    "> An image classification model with binary outcomes\n",
    "\n"
   ]
  },
  {
   "cell_type": "markdown",
   "metadata": {},
   "source": [
    "## Problem Statement\n",
    "\n",
    "Accordingly, eye disease in Singapore is becoming extremely prevalent due to certain lifestyle factors and its rapidly ageing population. All eye conditions are projected to increase by 2040. While eye conditions such as myopia and refractive error would remain to be most prevalent in Singapore, other eye disease such as diabetic retinopathy (DR), cataract and glaucoma would see almost and over 100% increase each in the number of cases in the Country. With an inevitable increase in demand, healthcare providers are looking into development and provision of infrastructure and resources to adequately meet the eye care needs of the population.\n",
    "\n",
    "The increase in prevalence comes with the need to detect and diagnose eye conditions in order to provide proper treatment and care. A technique used to detects eye conditions is known as Fundus Photography, a process whereby the the back of your eyes (retina) is photographed directly as the pupil is used as both an entrance and exit for the fundus camera's illuminating and imaging light rays. Ophthalmologists use these retinal photographs to follow, diagnose, and treat eye diseases.\n",
    "\n",
    "Currently, fundus images are analysed by trained readers, which is described as a tedious, tiring and time-consuming process. The images currently go through up to three levels of checks. Primary graders are the first to take a look at an image and around half of all images at this level typically turn out to have no abnormalities. Images with abnormalities, as well as 10 per cent of the \"normal\" images, are then sent to a group of secondary graders. If the primary and secondary graders disagree in their analysis of an image, it will be sent to an ophthalmologist. Only about 5 per cent of such images reach this stage.\n",
    "\n",
    "As part of preliminary efforts to reduce the intensive manpower required in the process, a Convolutional Neural Network model will be trained to classify if abnormalities are detected in the retinal images (i.e. binary outcome of 0:Normal or 1:Abnormal).\n",
    "\n",
    "Metrics used to evaluate the model will be based on Accuracy, and Recall for the medical industry since its better to err on the side of caution, rather than missing out on a diagnosis which result in late treatment or other serious consequences."
   ]
  },
  {
   "cell_type": "markdown",
   "metadata": {},
   "source": [
    "## Dataset\n",
    "Ocular Disease Intelligent Recognition (ODIR) is a structured ophthalmic database of 5,000 patients who have taken ocular health examination with age, color fundus photographs from left and right eyes and doctors' diagnostic keywords from doctors.\n",
    "\n",
    "This dataset is collected by Shanggong Medical Technology Co., Ltd. from different hospitals/medical centers in China. In these institutions, fundus images are captured by various cameras in the market, such as Canon, Zeiss and Kowa, resulting into varied image resolutions. Patient identifying information will be removed. Annotations were labeled by trained human readers with quality control management. They classify patient into eight labels including:\n",
    "\n",
    "Normal (N),\n",
    "Diabetes (D),\n",
    "Glaucoma (G),\n",
    "Cataract (C),\n",
    "Age related Macular Degeneration (A),\n",
    "Hypertension (H),\n",
    "Pathological Myopia (M),\n",
    "Other diseases/abnormalities (O)"
   ]
  },
  {
   "cell_type": "markdown",
   "metadata": {},
   "source": [
    "## 01 Data Cleaning & Exploratory Data Analysis"
   ]
  },
  {
   "cell_type": "markdown",
   "metadata": {},
   "source": [
    "### Contents\n",
    "- [Setup](#setup)\n",
    "    - [Library imports](#lib_imports)\n",
    "    - [Data imports](#data_imports)\n",
    "- [Image metadata](#img_metadata)\n",
    "    - [Preparing data](#prep_data)\n",
    "    - [Labelling Abnormal or Normal](#label)\n",
    "- [Images](#img_data)\n",
    "    - [Creating image filepath](#img_filepath)\n",
    "    - [Image properties](#img_prop)"
   ]
  },
  {
   "cell_type": "markdown",
   "metadata": {},
   "source": [
    "<a id='setup'></a>\n",
    "### Setup\n",
    "<a id='lib_imports'></a>\n",
    "#### Library imports"
   ]
  },
  {
   "cell_type": "code",
   "execution_count": 18,
   "metadata": {
    "scrolled": false
   },
   "outputs": [],
   "source": [
    "import matplotlib.pyplot as plt\n",
    "import seaborn as sns\n",
    "import pandas as pd\n",
    "import numpy as np\n",
    "import os\n",
    "import time\n",
    "from tqdm import tqdm\n",
    "\n",
    "#my_functions module\n",
    "import my_functions as myfunc\n",
    "import importlib\n",
    "importlib.reload(myfunc)\n",
    "\n",
    "%matplotlib inline"
   ]
  },
  {
   "cell_type": "markdown",
   "metadata": {},
   "source": [
    "<a id='data_imports'></a>\n",
    "#### Data imports"
   ]
  },
  {
   "cell_type": "code",
   "execution_count": 4,
   "metadata": {
    "scrolled": false
   },
   "outputs": [
    {
     "data": {
      "text/html": [
       "<div>\n",
       "<style scoped>\n",
       "    .dataframe tbody tr th:only-of-type {\n",
       "        vertical-align: middle;\n",
       "    }\n",
       "\n",
       "    .dataframe tbody tr th {\n",
       "        vertical-align: top;\n",
       "    }\n",
       "\n",
       "    .dataframe thead th {\n",
       "        text-align: right;\n",
       "    }\n",
       "</style>\n",
       "<table border=\"1\" class=\"dataframe\">\n",
       "  <thead>\n",
       "    <tr style=\"text-align: right;\">\n",
       "      <th></th>\n",
       "      <th>ID</th>\n",
       "      <th>Patient Age</th>\n",
       "      <th>Patient Sex</th>\n",
       "      <th>Left-Fundus</th>\n",
       "      <th>Right-Fundus</th>\n",
       "      <th>Left-Diagnostic Keywords</th>\n",
       "      <th>Right-Diagnostic Keywords</th>\n",
       "      <th>N</th>\n",
       "      <th>D</th>\n",
       "      <th>G</th>\n",
       "      <th>C</th>\n",
       "      <th>A</th>\n",
       "      <th>H</th>\n",
       "      <th>M</th>\n",
       "      <th>O</th>\n",
       "    </tr>\n",
       "  </thead>\n",
       "  <tbody>\n",
       "    <tr>\n",
       "      <th>0</th>\n",
       "      <td>0</td>\n",
       "      <td>69</td>\n",
       "      <td>Female</td>\n",
       "      <td>0_left.jpg</td>\n",
       "      <td>0_right.jpg</td>\n",
       "      <td>cataract</td>\n",
       "      <td>normal fundus</td>\n",
       "      <td>0</td>\n",
       "      <td>0</td>\n",
       "      <td>0</td>\n",
       "      <td>1</td>\n",
       "      <td>0</td>\n",
       "      <td>0</td>\n",
       "      <td>0</td>\n",
       "      <td>0</td>\n",
       "    </tr>\n",
       "    <tr>\n",
       "      <th>1</th>\n",
       "      <td>1</td>\n",
       "      <td>57</td>\n",
       "      <td>Male</td>\n",
       "      <td>1_left.jpg</td>\n",
       "      <td>1_right.jpg</td>\n",
       "      <td>normal fundus</td>\n",
       "      <td>normal fundus</td>\n",
       "      <td>1</td>\n",
       "      <td>0</td>\n",
       "      <td>0</td>\n",
       "      <td>0</td>\n",
       "      <td>0</td>\n",
       "      <td>0</td>\n",
       "      <td>0</td>\n",
       "      <td>0</td>\n",
       "    </tr>\n",
       "    <tr>\n",
       "      <th>2</th>\n",
       "      <td>2</td>\n",
       "      <td>42</td>\n",
       "      <td>Male</td>\n",
       "      <td>2_left.jpg</td>\n",
       "      <td>2_right.jpg</td>\n",
       "      <td>laser spot，moderate non proliferative retinopathy</td>\n",
       "      <td>moderate non proliferative retinopathy</td>\n",
       "      <td>0</td>\n",
       "      <td>1</td>\n",
       "      <td>0</td>\n",
       "      <td>0</td>\n",
       "      <td>0</td>\n",
       "      <td>0</td>\n",
       "      <td>0</td>\n",
       "      <td>1</td>\n",
       "    </tr>\n",
       "    <tr>\n",
       "      <th>3</th>\n",
       "      <td>3</td>\n",
       "      <td>66</td>\n",
       "      <td>Male</td>\n",
       "      <td>3_left.jpg</td>\n",
       "      <td>3_right.jpg</td>\n",
       "      <td>normal fundus</td>\n",
       "      <td>branch retinal artery occlusion</td>\n",
       "      <td>0</td>\n",
       "      <td>0</td>\n",
       "      <td>0</td>\n",
       "      <td>0</td>\n",
       "      <td>0</td>\n",
       "      <td>0</td>\n",
       "      <td>0</td>\n",
       "      <td>1</td>\n",
       "    </tr>\n",
       "    <tr>\n",
       "      <th>4</th>\n",
       "      <td>4</td>\n",
       "      <td>53</td>\n",
       "      <td>Male</td>\n",
       "      <td>4_left.jpg</td>\n",
       "      <td>4_right.jpg</td>\n",
       "      <td>macular epiretinal membrane</td>\n",
       "      <td>mild nonproliferative retinopathy</td>\n",
       "      <td>0</td>\n",
       "      <td>1</td>\n",
       "      <td>0</td>\n",
       "      <td>0</td>\n",
       "      <td>0</td>\n",
       "      <td>0</td>\n",
       "      <td>0</td>\n",
       "      <td>1</td>\n",
       "    </tr>\n",
       "  </tbody>\n",
       "</table>\n",
       "</div>"
      ],
      "text/plain": [
       "   ID  Patient Age Patient Sex Left-Fundus Right-Fundus  \\\n",
       "0   0           69      Female  0_left.jpg  0_right.jpg   \n",
       "1   1           57        Male  1_left.jpg  1_right.jpg   \n",
       "2   2           42        Male  2_left.jpg  2_right.jpg   \n",
       "3   3           66        Male  3_left.jpg  3_right.jpg   \n",
       "4   4           53        Male  4_left.jpg  4_right.jpg   \n",
       "\n",
       "                            Left-Diagnostic Keywords  \\\n",
       "0                                           cataract   \n",
       "1                                      normal fundus   \n",
       "2  laser spot，moderate non proliferative retinopathy   \n",
       "3                                      normal fundus   \n",
       "4                        macular epiretinal membrane   \n",
       "\n",
       "                Right-Diagnostic Keywords  N  D  G  C  A  H  M  O  \n",
       "0                           normal fundus  0  0  0  1  0  0  0  0  \n",
       "1                           normal fundus  1  0  0  0  0  0  0  0  \n",
       "2  moderate non proliferative retinopathy  0  1  0  0  0  0  0  1  \n",
       "3         branch retinal artery occlusion  0  0  0  0  0  0  0  1  \n",
       "4       mild nonproliferative retinopathy  0  1  0  0  0  0  0  1  "
      ]
     },
     "execution_count": 4,
     "metadata": {},
     "output_type": "execute_result"
    }
   ],
   "source": [
    "data = pd.read_csv('../assets/data.csv')\n",
    "#preview data\n",
    "data.head()"
   ]
  },
  {
   "cell_type": "markdown",
   "metadata": {},
   "source": [
    "<a id='img_metadata'></a>\n",
    "### Image Metadata"
   ]
  },
  {
   "cell_type": "code",
   "execution_count": 5,
   "metadata": {
    "scrolled": false
   },
   "outputs": [
    {
     "data": {
      "text/plain": [
       "Index(['ID', 'Patient Age', 'Patient Sex', 'Left-Fundus', 'Right-Fundus',\n",
       "       'Left-Diagnostic Keywords', 'Right-Diagnostic Keywords', 'N', 'D', 'G',\n",
       "       'C', 'A', 'H', 'M', 'O'],\n",
       "      dtype='object')"
      ]
     },
     "execution_count": 5,
     "metadata": {},
     "output_type": "execute_result"
    }
   ],
   "source": [
    "data.columns"
   ]
  },
  {
   "cell_type": "code",
   "execution_count": 6,
   "metadata": {
    "scrolled": true
   },
   "outputs": [
    {
     "name": "stdout",
     "output_type": "stream",
     "text": [
      "DATAFRAME INFORMATION\n",
      "---------------------------------------\n",
      "Rows: 3500             Columns: 15\n",
      "Duplicated rows: 0\n",
      "Columns:\n",
      "                          data_type  num_nulls  num_not_nulls  unique_values\n",
      "ID                            int64          0           3500           3500\n",
      "Patient Age                   int64          0           3500             75\n",
      "Patient Sex                  object          0           3500              2\n",
      "Left-Fundus                  object          0           3500           3500\n",
      "Right-Fundus                 object          0           3500           3500\n",
      "Left-Diagnostic Keywords     object          0           3500            227\n",
      "Right-Diagnostic Keywords    object          0           3500            233\n",
      "N                             int64          0           3500              2\n",
      "D                             int64          0           3500              2\n",
      "G                             int64          0           3500              2\n",
      "C                             int64          0           3500              2\n",
      "A                             int64          0           3500              2\n",
      "H                             int64          0           3500              2\n",
      "M                             int64          0           3500              2\n",
      "O                             int64          0           3500              2 \n",
      "\n"
     ]
    }
   ],
   "source": [
    "#call function to print information\n",
    "myfunc.basic_eda(data, \"Fundus Imaging\")"
   ]
  },
  {
   "cell_type": "markdown",
   "metadata": {},
   "source": [
    "<a id='prep_data'></a>\n",
    "#### Preparing Data\n",
    "Split left and right fundus images into different lines"
   ]
  },
  {
   "cell_type": "code",
   "execution_count": 7,
   "metadata": {},
   "outputs": [],
   "source": [
    "feat_l = ['ID', 'Patient Age', 'Patient Sex', 'Left-Fundus', 'Left-Diagnostic Keywords']\n",
    "feat_r = ['ID', 'Patient Age', 'Patient Sex', 'Right-Fundus', 'Right-Diagnostic Keywords']\n",
    "\n",
    "# {'Left-Fundus': 'Left-Fundus', 'Left-Diagnostic Keywords': 'Diagnostic Keywords'}\n",
    "data_l = data[feat_l].rename(columns= {'Left-Fundus': 'Fundus',\n",
    "                                       'Left-Diagnostic Keywords': 'Diagnostic Keywords'})\n",
    "#Denote which eye\n",
    "data_l['oculus'] = \"L\"\n",
    "data_r = data[feat_r].rename(columns= {'Right-Fundus': 'Fundus',\n",
    "                                       'Right-Diagnostic Keywords': 'Diagnostic Keywords'})\n",
    "data_r['oculus'] = \"R\"\n",
    "data_new = pd.concat([data_l, data_r], axis=0)"
   ]
  },
  {
   "cell_type": "code",
   "execution_count": 8,
   "metadata": {
    "scrolled": false
   },
   "outputs": [
    {
     "data": {
      "text/html": [
       "<div>\n",
       "<style scoped>\n",
       "    .dataframe tbody tr th:only-of-type {\n",
       "        vertical-align: middle;\n",
       "    }\n",
       "\n",
       "    .dataframe tbody tr th {\n",
       "        vertical-align: top;\n",
       "    }\n",
       "\n",
       "    .dataframe thead th {\n",
       "        text-align: right;\n",
       "    }\n",
       "</style>\n",
       "<table border=\"1\" class=\"dataframe\">\n",
       "  <thead>\n",
       "    <tr style=\"text-align: right;\">\n",
       "      <th></th>\n",
       "      <th>ID</th>\n",
       "      <th>Patient Age</th>\n",
       "      <th>Patient Sex</th>\n",
       "      <th>Fundus</th>\n",
       "      <th>Diagnostic Keywords</th>\n",
       "      <th>oculus</th>\n",
       "    </tr>\n",
       "  </thead>\n",
       "  <tbody>\n",
       "    <tr>\n",
       "      <th>0</th>\n",
       "      <td>0</td>\n",
       "      <td>69</td>\n",
       "      <td>Female</td>\n",
       "      <td>0_left.jpg</td>\n",
       "      <td>cataract</td>\n",
       "      <td>L</td>\n",
       "    </tr>\n",
       "    <tr>\n",
       "      <th>1</th>\n",
       "      <td>1</td>\n",
       "      <td>57</td>\n",
       "      <td>Male</td>\n",
       "      <td>1_left.jpg</td>\n",
       "      <td>normal fundus</td>\n",
       "      <td>L</td>\n",
       "    </tr>\n",
       "    <tr>\n",
       "      <th>2</th>\n",
       "      <td>2</td>\n",
       "      <td>42</td>\n",
       "      <td>Male</td>\n",
       "      <td>2_left.jpg</td>\n",
       "      <td>laser spot，moderate non proliferative retinopathy</td>\n",
       "      <td>L</td>\n",
       "    </tr>\n",
       "    <tr>\n",
       "      <th>3</th>\n",
       "      <td>3</td>\n",
       "      <td>66</td>\n",
       "      <td>Male</td>\n",
       "      <td>3_left.jpg</td>\n",
       "      <td>normal fundus</td>\n",
       "      <td>L</td>\n",
       "    </tr>\n",
       "    <tr>\n",
       "      <th>4</th>\n",
       "      <td>4</td>\n",
       "      <td>53</td>\n",
       "      <td>Male</td>\n",
       "      <td>4_left.jpg</td>\n",
       "      <td>macular epiretinal membrane</td>\n",
       "      <td>L</td>\n",
       "    </tr>\n",
       "  </tbody>\n",
       "</table>\n",
       "</div>"
      ],
      "text/plain": [
       "   ID  Patient Age Patient Sex      Fundus  \\\n",
       "0   0           69      Female  0_left.jpg   \n",
       "1   1           57        Male  1_left.jpg   \n",
       "2   2           42        Male  2_left.jpg   \n",
       "3   3           66        Male  3_left.jpg   \n",
       "4   4           53        Male  4_left.jpg   \n",
       "\n",
       "                                 Diagnostic Keywords oculus  \n",
       "0                                           cataract      L  \n",
       "1                                      normal fundus      L  \n",
       "2  laser spot，moderate non proliferative retinopathy      L  \n",
       "3                                      normal fundus      L  \n",
       "4                        macular epiretinal membrane      L  "
      ]
     },
     "execution_count": 8,
     "metadata": {},
     "output_type": "execute_result"
    }
   ],
   "source": [
    "data_new.head()"
   ]
  },
  {
   "cell_type": "code",
   "execution_count": 9,
   "metadata": {},
   "outputs": [],
   "source": [
    "data_new.sort_values('ID', ignore_index=True, inplace=True)"
   ]
  },
  {
   "cell_type": "markdown",
   "metadata": {},
   "source": [
    "<a id='label'></a>\n",
    "#### Labelling Abnormal or Normal"
   ]
  },
  {
   "cell_type": "code",
   "execution_count": 10,
   "metadata": {},
   "outputs": [],
   "source": [
    "#label normal if keyword contains normal\n",
    "data_new['abnormal'] = (data_new['Diagnostic Keywords'].str.contains('normal', regex=False) & (data_new['Diagnostic Keywords'].str.contains('abnormal', regex=False) == False))"
   ]
  },
  {
   "cell_type": "code",
   "execution_count": 11,
   "metadata": {},
   "outputs": [],
   "source": [
    "#convert to alphanumeric values\n",
    "#if Normal (i.e. True): 0, if abnormal (i.e. False): 1\n",
    "data_new['abnormal'] = data_new['abnormal'].map({True: \"0\", False: \"1\"})"
   ]
  },
  {
   "cell_type": "code",
   "execution_count": 12,
   "metadata": {},
   "outputs": [
    {
     "data": {
      "text/html": [
       "<div>\n",
       "<style scoped>\n",
       "    .dataframe tbody tr th:only-of-type {\n",
       "        vertical-align: middle;\n",
       "    }\n",
       "\n",
       "    .dataframe tbody tr th {\n",
       "        vertical-align: top;\n",
       "    }\n",
       "\n",
       "    .dataframe thead th {\n",
       "        text-align: right;\n",
       "    }\n",
       "</style>\n",
       "<table border=\"1\" class=\"dataframe\">\n",
       "  <thead>\n",
       "    <tr style=\"text-align: right;\">\n",
       "      <th></th>\n",
       "      <th>ID</th>\n",
       "      <th>Patient Age</th>\n",
       "      <th>Patient Sex</th>\n",
       "      <th>Fundus</th>\n",
       "      <th>Diagnostic Keywords</th>\n",
       "      <th>oculus</th>\n",
       "      <th>abnormal</th>\n",
       "    </tr>\n",
       "  </thead>\n",
       "  <tbody>\n",
       "    <tr>\n",
       "      <th>0</th>\n",
       "      <td>0</td>\n",
       "      <td>69</td>\n",
       "      <td>Female</td>\n",
       "      <td>0_left.jpg</td>\n",
       "      <td>cataract</td>\n",
       "      <td>L</td>\n",
       "      <td>1</td>\n",
       "    </tr>\n",
       "    <tr>\n",
       "      <th>1</th>\n",
       "      <td>0</td>\n",
       "      <td>69</td>\n",
       "      <td>Female</td>\n",
       "      <td>0_right.jpg</td>\n",
       "      <td>normal fundus</td>\n",
       "      <td>R</td>\n",
       "      <td>0</td>\n",
       "    </tr>\n",
       "    <tr>\n",
       "      <th>2</th>\n",
       "      <td>1</td>\n",
       "      <td>57</td>\n",
       "      <td>Male</td>\n",
       "      <td>1_left.jpg</td>\n",
       "      <td>normal fundus</td>\n",
       "      <td>L</td>\n",
       "      <td>0</td>\n",
       "    </tr>\n",
       "    <tr>\n",
       "      <th>3</th>\n",
       "      <td>1</td>\n",
       "      <td>57</td>\n",
       "      <td>Male</td>\n",
       "      <td>1_right.jpg</td>\n",
       "      <td>normal fundus</td>\n",
       "      <td>R</td>\n",
       "      <td>0</td>\n",
       "    </tr>\n",
       "    <tr>\n",
       "      <th>4</th>\n",
       "      <td>2</td>\n",
       "      <td>42</td>\n",
       "      <td>Male</td>\n",
       "      <td>2_left.jpg</td>\n",
       "      <td>laser spot，moderate non proliferative retinopathy</td>\n",
       "      <td>L</td>\n",
       "      <td>1</td>\n",
       "    </tr>\n",
       "  </tbody>\n",
       "</table>\n",
       "</div>"
      ],
      "text/plain": [
       "   ID  Patient Age Patient Sex       Fundus  \\\n",
       "0   0           69      Female   0_left.jpg   \n",
       "1   0           69      Female  0_right.jpg   \n",
       "2   1           57        Male   1_left.jpg   \n",
       "3   1           57        Male  1_right.jpg   \n",
       "4   2           42        Male   2_left.jpg   \n",
       "\n",
       "                                 Diagnostic Keywords oculus abnormal  \n",
       "0                                           cataract      L        1  \n",
       "1                                      normal fundus      R        0  \n",
       "2                                      normal fundus      L        0  \n",
       "3                                      normal fundus      R        0  \n",
       "4  laser spot，moderate non proliferative retinopathy      L        1  "
      ]
     },
     "execution_count": 12,
     "metadata": {},
     "output_type": "execute_result"
    }
   ],
   "source": [
    "data_new.head()"
   ]
  },
  {
   "cell_type": "code",
   "execution_count": 13,
   "metadata": {
    "scrolled": true
   },
   "outputs": [],
   "source": [
    "#images not labelled due to low quality\n",
    "low_qual_index = data_new[(data_new['Diagnostic Keywords'].str.contains('low', regex=False))].index[2:]"
   ]
  },
  {
   "cell_type": "code",
   "execution_count": 14,
   "metadata": {
    "scrolled": true
   },
   "outputs": [
    {
     "data": {
      "text/plain": [
       "(6980, 7)"
      ]
     },
     "execution_count": 14,
     "metadata": {},
     "output_type": "execute_result"
    }
   ],
   "source": [
    "#dropping rows\n",
    "data_new = data_new.drop(index= low_qual_index)\n",
    "data_new.shape"
   ]
  },
  {
   "cell_type": "code",
   "execution_count": 15,
   "metadata": {},
   "outputs": [
    {
     "data": {
      "text/html": [
       "<div>\n",
       "<style scoped>\n",
       "    .dataframe tbody tr th:only-of-type {\n",
       "        vertical-align: middle;\n",
       "    }\n",
       "\n",
       "    .dataframe tbody tr th {\n",
       "        vertical-align: top;\n",
       "    }\n",
       "\n",
       "    .dataframe thead th {\n",
       "        text-align: right;\n",
       "    }\n",
       "</style>\n",
       "<table border=\"1\" class=\"dataframe\">\n",
       "  <thead>\n",
       "    <tr style=\"text-align: right;\">\n",
       "      <th></th>\n",
       "      <th>ID</th>\n",
       "      <th>Patient Age</th>\n",
       "      <th>Patient Sex</th>\n",
       "      <th>Fundus</th>\n",
       "      <th>Diagnostic Keywords</th>\n",
       "      <th>oculus</th>\n",
       "      <th>abnormal</th>\n",
       "    </tr>\n",
       "  </thead>\n",
       "  <tbody>\n",
       "    <tr>\n",
       "      <th>0</th>\n",
       "      <td>0</td>\n",
       "      <td>69</td>\n",
       "      <td>Female</td>\n",
       "      <td>0_left.jpg</td>\n",
       "      <td>cataract</td>\n",
       "      <td>L</td>\n",
       "      <td>1</td>\n",
       "    </tr>\n",
       "    <tr>\n",
       "      <th>1</th>\n",
       "      <td>0</td>\n",
       "      <td>69</td>\n",
       "      <td>Female</td>\n",
       "      <td>0_right.jpg</td>\n",
       "      <td>normal fundus</td>\n",
       "      <td>R</td>\n",
       "      <td>0</td>\n",
       "    </tr>\n",
       "    <tr>\n",
       "      <th>2</th>\n",
       "      <td>1</td>\n",
       "      <td>57</td>\n",
       "      <td>Male</td>\n",
       "      <td>1_left.jpg</td>\n",
       "      <td>normal fundus</td>\n",
       "      <td>L</td>\n",
       "      <td>0</td>\n",
       "    </tr>\n",
       "    <tr>\n",
       "      <th>3</th>\n",
       "      <td>1</td>\n",
       "      <td>57</td>\n",
       "      <td>Male</td>\n",
       "      <td>1_right.jpg</td>\n",
       "      <td>normal fundus</td>\n",
       "      <td>R</td>\n",
       "      <td>0</td>\n",
       "    </tr>\n",
       "    <tr>\n",
       "      <th>4</th>\n",
       "      <td>2</td>\n",
       "      <td>42</td>\n",
       "      <td>Male</td>\n",
       "      <td>2_left.jpg</td>\n",
       "      <td>laser spot，moderate non proliferative retinopathy</td>\n",
       "      <td>L</td>\n",
       "      <td>1</td>\n",
       "    </tr>\n",
       "  </tbody>\n",
       "</table>\n",
       "</div>"
      ],
      "text/plain": [
       "   ID  Patient Age Patient Sex       Fundus  \\\n",
       "0   0           69      Female   0_left.jpg   \n",
       "1   0           69      Female  0_right.jpg   \n",
       "2   1           57        Male   1_left.jpg   \n",
       "3   1           57        Male  1_right.jpg   \n",
       "4   2           42        Male   2_left.jpg   \n",
       "\n",
       "                                 Diagnostic Keywords oculus abnormal  \n",
       "0                                           cataract      L        1  \n",
       "1                                      normal fundus      R        0  \n",
       "2                                      normal fundus      L        0  \n",
       "3                                      normal fundus      R        0  \n",
       "4  laser spot，moderate non proliferative retinopathy      L        1  "
      ]
     },
     "execution_count": 15,
     "metadata": {},
     "output_type": "execute_result"
    }
   ],
   "source": [
    "data_new.head()"
   ]
  },
  {
   "cell_type": "code",
   "execution_count": 16,
   "metadata": {
    "scrolled": true
   },
   "outputs": [
    {
     "name": "stdout",
     "output_type": "stream",
     "text": [
      "DATAFRAME INFORMATION\n",
      "---------------------------------------\n",
      "Rows: 6980             Columns: 7\n",
      "Duplicated rows: 0\n",
      "Columns:\n",
      "                    data_type  num_nulls  num_not_nulls  unique_values\n",
      "ID                      int64          0           6980           3499\n",
      "Patient Age             int64          0           6980             75\n",
      "Patient Sex            object          0           6980              2\n",
      "Fundus                 object          0           6980           6980\n",
      "Diagnostic Keywords    object          0           6980            328\n",
      "oculus                 object          0           6980              2\n",
      "abnormal               object          0           6980              2 \n",
      "\n"
     ]
    }
   ],
   "source": [
    "#review of dataframe\n",
    "myfunc.basic_eda(data_new, \"Fundus Imaging\")"
   ]
  },
  {
   "cell_type": "markdown",
   "metadata": {},
   "source": [
    "<a id='img_data'></a>\n",
    "### Images"
   ]
  },
  {
   "cell_type": "markdown",
   "metadata": {},
   "source": [
    "<a id='img_filepath'></a>\n",
    "#### Creating image filepath"
   ]
  },
  {
   "cell_type": "code",
   "execution_count": 19,
   "metadata": {},
   "outputs": [
    {
     "name": "stdout",
     "output_type": "stream",
     "text": [
      "1000 images\n",
      "2000 images\n",
      "3000 images\n",
      "4000 images\n",
      "5000 images\n",
      "6000 images\n",
      "7000 images\n",
      "Done! \n"
     ]
    }
   ],
   "source": [
    "img_src = []\n",
    "img_dir = '../color_fundus/'\n",
    "\n",
    "counter = 0\n",
    "for subdir, dirs, files in os.walk(img_dir):\n",
    "    for file in files:\n",
    "        full_path = os.path.join(subdir, file)\n",
    "        dict_img = {}\n",
    "        dict_img['filepath'] = full_path\n",
    "        dict_img['Fundus'] = file\n",
    "        img_src.append(dict_img)\n",
    "        counter = counter + 1\n",
    "        if counter %1000 == 0:\n",
    "            print(f\"{counter} images\")\n",
    "print(f\"Done! \")"
   ]
  },
  {
   "cell_type": "code",
   "execution_count": 20,
   "metadata": {
    "scrolled": true
   },
   "outputs": [
    {
     "data": {
      "text/html": [
       "<div>\n",
       "<style scoped>\n",
       "    .dataframe tbody tr th:only-of-type {\n",
       "        vertical-align: middle;\n",
       "    }\n",
       "\n",
       "    .dataframe tbody tr th {\n",
       "        vertical-align: top;\n",
       "    }\n",
       "\n",
       "    .dataframe thead th {\n",
       "        text-align: right;\n",
       "    }\n",
       "</style>\n",
       "<table border=\"1\" class=\"dataframe\">\n",
       "  <thead>\n",
       "    <tr style=\"text-align: right;\">\n",
       "      <th></th>\n",
       "      <th>ID</th>\n",
       "      <th>Patient Age</th>\n",
       "      <th>Patient Sex</th>\n",
       "      <th>Fundus</th>\n",
       "      <th>Diagnostic Keywords</th>\n",
       "      <th>oculus</th>\n",
       "      <th>abnormal</th>\n",
       "      <th>filepath</th>\n",
       "    </tr>\n",
       "  </thead>\n",
       "  <tbody>\n",
       "    <tr>\n",
       "      <th>0</th>\n",
       "      <td>0</td>\n",
       "      <td>69</td>\n",
       "      <td>Female</td>\n",
       "      <td>0_left.jpg</td>\n",
       "      <td>cataract</td>\n",
       "      <td>L</td>\n",
       "      <td>1</td>\n",
       "      <td>../color_fundus/0_left.jpg</td>\n",
       "    </tr>\n",
       "    <tr>\n",
       "      <th>1</th>\n",
       "      <td>0</td>\n",
       "      <td>69</td>\n",
       "      <td>Female</td>\n",
       "      <td>0_right.jpg</td>\n",
       "      <td>normal fundus</td>\n",
       "      <td>R</td>\n",
       "      <td>0</td>\n",
       "      <td>../color_fundus/0_right.jpg</td>\n",
       "    </tr>\n",
       "    <tr>\n",
       "      <th>2</th>\n",
       "      <td>1</td>\n",
       "      <td>57</td>\n",
       "      <td>Male</td>\n",
       "      <td>1_left.jpg</td>\n",
       "      <td>normal fundus</td>\n",
       "      <td>L</td>\n",
       "      <td>0</td>\n",
       "      <td>../color_fundus/1_left.jpg</td>\n",
       "    </tr>\n",
       "    <tr>\n",
       "      <th>3</th>\n",
       "      <td>1</td>\n",
       "      <td>57</td>\n",
       "      <td>Male</td>\n",
       "      <td>1_right.jpg</td>\n",
       "      <td>normal fundus</td>\n",
       "      <td>R</td>\n",
       "      <td>0</td>\n",
       "      <td>../color_fundus/1_right.jpg</td>\n",
       "    </tr>\n",
       "    <tr>\n",
       "      <th>4</th>\n",
       "      <td>2</td>\n",
       "      <td>42</td>\n",
       "      <td>Male</td>\n",
       "      <td>2_left.jpg</td>\n",
       "      <td>laser spot，moderate non proliferative retinopathy</td>\n",
       "      <td>L</td>\n",
       "      <td>1</td>\n",
       "      <td>../color_fundus/2_left.jpg</td>\n",
       "    </tr>\n",
       "  </tbody>\n",
       "</table>\n",
       "</div>"
      ],
      "text/plain": [
       "   ID  Patient Age Patient Sex       Fundus  \\\n",
       "0   0           69      Female   0_left.jpg   \n",
       "1   0           69      Female  0_right.jpg   \n",
       "2   1           57        Male   1_left.jpg   \n",
       "3   1           57        Male  1_right.jpg   \n",
       "4   2           42        Male   2_left.jpg   \n",
       "\n",
       "                                 Diagnostic Keywords oculus abnormal  \\\n",
       "0                                           cataract      L        1   \n",
       "1                                      normal fundus      R        0   \n",
       "2                                      normal fundus      L        0   \n",
       "3                                      normal fundus      R        0   \n",
       "4  laser spot，moderate non proliferative retinopathy      L        1   \n",
       "\n",
       "                      filepath  \n",
       "0   ../color_fundus/0_left.jpg  \n",
       "1  ../color_fundus/0_right.jpg  \n",
       "2   ../color_fundus/1_left.jpg  \n",
       "3  ../color_fundus/1_right.jpg  \n",
       "4   ../color_fundus/2_left.jpg  "
      ]
     },
     "execution_count": 20,
     "metadata": {},
     "output_type": "execute_result"
    }
   ],
   "source": [
    "df = pd.merge(data_new, pd.DataFrame(img_src), on='Fundus')\n",
    "df.head()"
   ]
  },
  {
   "cell_type": "markdown",
   "metadata": {},
   "source": [
    "<a id='img_prop'></a>\n",
    "#### Image properties"
   ]
  },
  {
   "cell_type": "code",
   "execution_count": 21,
   "metadata": {},
   "outputs": [],
   "source": [
    "#Using pillow to read image for properties\n",
    "from PIL import Image\n",
    "df['img_format'] = df['filepath'].map(lambda s: Image.open(s).format)\n",
    "df['img_mode'] = df['filepath'].map(lambda s: Image.open(s).mode)\n",
    "df['img_size'] = df['filepath'].map(lambda s: Image.open(s).size)"
   ]
  },
  {
   "cell_type": "code",
   "execution_count": 22,
   "metadata": {},
   "outputs": [
    {
     "data": {
      "text/plain": [
       "JPEG    6980\n",
       "Name: img_format, dtype: int64"
      ]
     },
     "execution_count": 22,
     "metadata": {},
     "output_type": "execute_result"
    }
   ],
   "source": [
    "#JPEG\n",
    "df['img_format'].value_counts()"
   ]
  },
  {
   "cell_type": "code",
   "execution_count": 23,
   "metadata": {},
   "outputs": [
    {
     "data": {
      "text/plain": [
       "RGB    6980\n",
       "Name: img_mode, dtype: int64"
      ]
     },
     "execution_count": 23,
     "metadata": {},
     "output_type": "execute_result"
    }
   ],
   "source": [
    "#RGB\n",
    "df['img_mode'].value_counts()"
   ]
  },
  {
   "cell_type": "code",
   "execution_count": 24,
   "metadata": {},
   "outputs": [
    {
     "data": {
      "text/plain": [
       "(250, 188)       10\n",
       "(320, 316)       10\n",
       "(727, 716)        1\n",
       "(741, 713)        1\n",
       "(758, 705)        1\n",
       "               ... \n",
       "(3696, 2448)     30\n",
       "(3888, 2592)    124\n",
       "(4288, 2848)     16\n",
       "(4496, 3000)     32\n",
       "(5184, 3456)     52\n",
       "Name: img_size, Length: 100, dtype: int64"
      ]
     },
     "execution_count": 24,
     "metadata": {},
     "output_type": "execute_result"
    }
   ],
   "source": [
    "#varying image sizes\n",
    "df['img_size'].value_counts().sort_index()"
   ]
  },
  {
   "cell_type": "code",
   "execution_count": 25,
   "metadata": {},
   "outputs": [
    {
     "data": {
      "text/html": [
       "<div>\n",
       "<style scoped>\n",
       "    .dataframe tbody tr th:only-of-type {\n",
       "        vertical-align: middle;\n",
       "    }\n",
       "\n",
       "    .dataframe tbody tr th {\n",
       "        vertical-align: top;\n",
       "    }\n",
       "\n",
       "    .dataframe thead th {\n",
       "        text-align: right;\n",
       "    }\n",
       "</style>\n",
       "<table border=\"1\" class=\"dataframe\">\n",
       "  <thead>\n",
       "    <tr style=\"text-align: right;\">\n",
       "      <th></th>\n",
       "      <th>ID</th>\n",
       "      <th>Patient Age</th>\n",
       "      <th>Patient Sex</th>\n",
       "      <th>Fundus</th>\n",
       "      <th>Diagnostic Keywords</th>\n",
       "      <th>oculus</th>\n",
       "      <th>abnormal</th>\n",
       "      <th>filepath</th>\n",
       "      <th>img_format</th>\n",
       "      <th>img_mode</th>\n",
       "      <th>img_size</th>\n",
       "    </tr>\n",
       "  </thead>\n",
       "  <tbody>\n",
       "    <tr>\n",
       "      <th>1169</th>\n",
       "      <td>586</td>\n",
       "      <td>64</td>\n",
       "      <td>Female</td>\n",
       "      <td>586_right.jpg</td>\n",
       "      <td>lens dust，spotted membranous change</td>\n",
       "      <td>R</td>\n",
       "      <td>1</td>\n",
       "      <td>../color_fundus/586_right.jpg</td>\n",
       "      <td>JPEG</td>\n",
       "      <td>RGB</td>\n",
       "      <td>(5184, 3456)</td>\n",
       "    </tr>\n",
       "    <tr>\n",
       "      <th>5066</th>\n",
       "      <td>3156</td>\n",
       "      <td>67</td>\n",
       "      <td>Male</td>\n",
       "      <td>3156_left.jpg</td>\n",
       "      <td>normal fundus</td>\n",
       "      <td>L</td>\n",
       "      <td>0</td>\n",
       "      <td>../color_fundus/3156_left.jpg</td>\n",
       "      <td>JPEG</td>\n",
       "      <td>RGB</td>\n",
       "      <td>(5184, 3456)</td>\n",
       "    </tr>\n",
       "    <tr>\n",
       "      <th>2067</th>\n",
       "      <td>1060</td>\n",
       "      <td>54</td>\n",
       "      <td>Male</td>\n",
       "      <td>1060_right.jpg</td>\n",
       "      <td>normal fundus</td>\n",
       "      <td>R</td>\n",
       "      <td>0</td>\n",
       "      <td>../color_fundus/1060_right.jpg</td>\n",
       "      <td>JPEG</td>\n",
       "      <td>RGB</td>\n",
       "      <td>(5184, 3456)</td>\n",
       "    </tr>\n",
       "    <tr>\n",
       "      <th>6016</th>\n",
       "      <td>4144</td>\n",
       "      <td>50</td>\n",
       "      <td>Female</td>\n",
       "      <td>4144_left.jpg</td>\n",
       "      <td>moderate non proliferative retinopathy</td>\n",
       "      <td>L</td>\n",
       "      <td>1</td>\n",
       "      <td>../color_fundus/4144_left.jpg</td>\n",
       "      <td>JPEG</td>\n",
       "      <td>RGB</td>\n",
       "      <td>(5184, 3456)</td>\n",
       "    </tr>\n",
       "    <tr>\n",
       "      <th>1170</th>\n",
       "      <td>586</td>\n",
       "      <td>64</td>\n",
       "      <td>Female</td>\n",
       "      <td>586_left.jpg</td>\n",
       "      <td>lens dust，epiretinal membrane</td>\n",
       "      <td>L</td>\n",
       "      <td>1</td>\n",
       "      <td>../color_fundus/586_left.jpg</td>\n",
       "      <td>JPEG</td>\n",
       "      <td>RGB</td>\n",
       "      <td>(5184, 3456)</td>\n",
       "    </tr>\n",
       "  </tbody>\n",
       "</table>\n",
       "</div>"
      ],
      "text/plain": [
       "        ID  Patient Age Patient Sex          Fundus  \\\n",
       "1169   586           64      Female   586_right.jpg   \n",
       "5066  3156           67        Male   3156_left.jpg   \n",
       "2067  1060           54        Male  1060_right.jpg   \n",
       "6016  4144           50      Female   4144_left.jpg   \n",
       "1170   586           64      Female    586_left.jpg   \n",
       "\n",
       "                         Diagnostic Keywords oculus abnormal  \\\n",
       "1169     lens dust，spotted membranous change      R        1   \n",
       "5066                           normal fundus      L        0   \n",
       "2067                           normal fundus      R        0   \n",
       "6016  moderate non proliferative retinopathy      L        1   \n",
       "1170           lens dust，epiretinal membrane      L        1   \n",
       "\n",
       "                            filepath img_format img_mode      img_size  \n",
       "1169   ../color_fundus/586_right.jpg       JPEG      RGB  (5184, 3456)  \n",
       "5066   ../color_fundus/3156_left.jpg       JPEG      RGB  (5184, 3456)  \n",
       "2067  ../color_fundus/1060_right.jpg       JPEG      RGB  (5184, 3456)  \n",
       "6016   ../color_fundus/4144_left.jpg       JPEG      RGB  (5184, 3456)  \n",
       "1170    ../color_fundus/586_left.jpg       JPEG      RGB  (5184, 3456)  "
      ]
     },
     "execution_count": 25,
     "metadata": {},
     "output_type": "execute_result"
    }
   ],
   "source": [
    "df.sort_values(by='img_size').tail()"
   ]
  },
  {
   "cell_type": "code",
   "execution_count": 26,
   "metadata": {},
   "outputs": [
    {
     "data": {
      "image/png": "[encoded data removed]",
      "text/plain": [
       "<Figure size 1008x1008 with 4 Axes>"
      ]
     },
     "metadata": {
      "needs_background": "light"
     },
     "output_type": "display_data"
    }
   ],
   "source": [
    "fig, ax = plt.subplots(nrows = 2, ncols = 2, figsize = (14, 14))\n",
    "ax = ax.ravel()\n",
    "sns.barplot(x=df['abnormal'].value_counts(ascending=True).index,\n",
    "            y=df['abnormal'].value_counts(ascending=True).values,\n",
    "            ax=ax[0])\n",
    "myfunc.subplot_data(ax, 0, 'Distribution of Diagnosis', 'Diagnosis', 'Frequency')\n",
    "\n",
    "sns.distplot(df['Patient Age'].sort_values(),bins=10,ax=ax[1])\n",
    "myfunc.subplot_data(ax, 1, 'Distribution of age', 'Age group', 'Frequency')\n",
    "\n",
    "sns.countplot(x=df['Patient Sex'].sort_values(), ax=ax[2])\n",
    "myfunc.subplot_data(ax, 2, 'Distribution of Gender', 'Gender', 'Frequency')\n",
    "\n",
    "sns.distplot(df['img_size'].value_counts().sort_index(),bins=30,ax=ax[3])\n",
    "myfunc.subplot_data(ax, 3, 'Distribution of image size', 'sizes', '')\n",
    "\n",
    "plt.tight_layout();\n"
   ]
  },
  {
   "cell_type": "markdown",
   "metadata": {},
   "source": [
    "**Save dataframe**"
   ]
  },
  {
   "cell_type": "code",
   "execution_count": 27,
   "metadata": {},
   "outputs": [],
   "source": [
    "df.to_csv('../assets/data_v1.csv', index=False)"
   ]
  },
  {
   "cell_type": "markdown",
   "metadata": {},
   "source": [
    "<div style=\"text-align: right\">\n",
    "<div class=\"right\">\n",
    "        <a href=\"./02_preprocessing.ipynb\">>>> Next: Image Preprocessing</a>\n",
    "    </div>\n",
    "    </div>"
   ]
  },
  {
   "cell_type": "markdown",
   "metadata": {},
   "source": [
    "[Go to top](#top)\n",
    "\n",
    "---"
   ]
  },
  {
   "cell_type": "code",
   "execution_count": null,
   "metadata": {},
   "outputs": [],
   "source": []
  }
 ],
 "metadata": {
  "kernelspec": {
   "display_name": "Python 3",
   "language": "python",
   "name": "python3"
  },
  "language_info": {
   "codemirror_mode": {
    "name": "ipython",
    "version": 3
   },
   "file_extension": ".py",
   "mimetype": "text/x-python",
   "name": "python",
   "nbconvert_exporter": "python",
   "pygments_lexer": "ipython3",
   "version": "3.7.7"
  }
 },
 "nbformat": 4,
 "nbformat_minor": 4
}
